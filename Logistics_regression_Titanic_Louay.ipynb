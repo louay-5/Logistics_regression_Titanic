{
  "nbformat": 4,
  "nbformat_minor": 0,
  "metadata": {
    "colab": {
      "name": "Logistics_regression_Titanic.ipynb",
      "provenance": [],
      "collapsed_sections": []
    },
    "kernelspec": {
      "name": "python3",
      "display_name": "Python 3"
    }
  },
  "cells": [
    {
      "cell_type": "markdown",
      "metadata": {
        "id": "-W61KAcxKCce"
      },
      "source": [
        "\n",
        "\n",
        "# Data Preprocessing\n",
        "\n"
      ]
    },
    {
      "cell_type": "code",
      "metadata": {
        "id": "tz4cOyTuCg3A"
      },
      "source": [
        "import pandas as pd                                     #For data preprocessing\n",
        "import matplotlib.pyplot as plt                         #For data viz\n",
        "import seaborn as sns                                   #For data viz\n",
        "import numpy as np                                      #For maths elements\n",
        "\n",
        "from sklearn.model_selection import train_test_split    #For splitting dataset\n",
        "from sklearn.linear_model import LogisticRegression     #For logistic regression model creation\n",
        "from sklearn import metrics                             #For calculating model metrics\n",
        "from sklearn.metrics import classification_report       #For the classification report\n",
        "from sklearn.metrics import roc_auc_score               #For calculating the ROC/AUC score"
      ],
      "execution_count": 47,
      "outputs": []
    },
    {
      "cell_type": "code",
      "metadata": {
        "id": "XDUCpmJXKNd3",
        "outputId": "0573fb2f-c911-42b5-e1c6-facc95f801e6",
        "colab": {
          "base_uri": "https://localhost:8080/",
          "height": 255
        }
      },
      "source": [
        "#**************Data preprocessing***************\n",
        "\n",
        "df=pd.read_csv(\"titanic-passengers.csv\", sep=\";\", quotechar='\"')   # import titanic dataset\n",
        "df.head()        #First 5 rows"
      ],
      "execution_count": 2,
      "outputs": [
        {
          "output_type": "execute_result",
          "data": {
            "text/html": [
              "<div>\n",
              "<style scoped>\n",
              "    .dataframe tbody tr th:only-of-type {\n",
              "        vertical-align: middle;\n",
              "    }\n",
              "\n",
              "    .dataframe tbody tr th {\n",
              "        vertical-align: top;\n",
              "    }\n",
              "\n",
              "    .dataframe thead th {\n",
              "        text-align: right;\n",
              "    }\n",
              "</style>\n",
              "<table border=\"1\" class=\"dataframe\">\n",
              "  <thead>\n",
              "    <tr style=\"text-align: right;\">\n",
              "      <th></th>\n",
              "      <th>PassengerId</th>\n",
              "      <th>Survived</th>\n",
              "      <th>Pclass</th>\n",
              "      <th>Name</th>\n",
              "      <th>Sex</th>\n",
              "      <th>Age</th>\n",
              "      <th>SibSp</th>\n",
              "      <th>Parch</th>\n",
              "      <th>Ticket</th>\n",
              "      <th>Fare</th>\n",
              "      <th>Cabin</th>\n",
              "      <th>Embarked</th>\n",
              "    </tr>\n",
              "  </thead>\n",
              "  <tbody>\n",
              "    <tr>\n",
              "      <th>0</th>\n",
              "      <td>343</td>\n",
              "      <td>No</td>\n",
              "      <td>2</td>\n",
              "      <td>Collander, Mr. Erik Gustaf</td>\n",
              "      <td>male</td>\n",
              "      <td>28.0</td>\n",
              "      <td>0</td>\n",
              "      <td>0</td>\n",
              "      <td>248740</td>\n",
              "      <td>13.0000</td>\n",
              "      <td>NaN</td>\n",
              "      <td>S</td>\n",
              "    </tr>\n",
              "    <tr>\n",
              "      <th>1</th>\n",
              "      <td>76</td>\n",
              "      <td>No</td>\n",
              "      <td>3</td>\n",
              "      <td>Moen, Mr. Sigurd Hansen</td>\n",
              "      <td>male</td>\n",
              "      <td>25.0</td>\n",
              "      <td>0</td>\n",
              "      <td>0</td>\n",
              "      <td>348123</td>\n",
              "      <td>7.6500</td>\n",
              "      <td>F G73</td>\n",
              "      <td>S</td>\n",
              "    </tr>\n",
              "    <tr>\n",
              "      <th>2</th>\n",
              "      <td>641</td>\n",
              "      <td>No</td>\n",
              "      <td>3</td>\n",
              "      <td>Jensen, Mr. Hans Peder</td>\n",
              "      <td>male</td>\n",
              "      <td>20.0</td>\n",
              "      <td>0</td>\n",
              "      <td>0</td>\n",
              "      <td>350050</td>\n",
              "      <td>7.8542</td>\n",
              "      <td>NaN</td>\n",
              "      <td>S</td>\n",
              "    </tr>\n",
              "    <tr>\n",
              "      <th>3</th>\n",
              "      <td>568</td>\n",
              "      <td>No</td>\n",
              "      <td>3</td>\n",
              "      <td>Palsson, Mrs. Nils (Alma Cornelia Berglund)</td>\n",
              "      <td>female</td>\n",
              "      <td>29.0</td>\n",
              "      <td>0</td>\n",
              "      <td>4</td>\n",
              "      <td>349909</td>\n",
              "      <td>21.0750</td>\n",
              "      <td>NaN</td>\n",
              "      <td>S</td>\n",
              "    </tr>\n",
              "    <tr>\n",
              "      <th>4</th>\n",
              "      <td>672</td>\n",
              "      <td>No</td>\n",
              "      <td>1</td>\n",
              "      <td>Davidson, Mr. Thornton</td>\n",
              "      <td>male</td>\n",
              "      <td>31.0</td>\n",
              "      <td>1</td>\n",
              "      <td>0</td>\n",
              "      <td>F.C. 12750</td>\n",
              "      <td>52.0000</td>\n",
              "      <td>B71</td>\n",
              "      <td>S</td>\n",
              "    </tr>\n",
              "  </tbody>\n",
              "</table>\n",
              "</div>"
            ],
            "text/plain": [
              "   PassengerId Survived  Pclass  ...     Fare  Cabin  Embarked\n",
              "0          343       No       2  ...  13.0000    NaN         S\n",
              "1           76       No       3  ...   7.6500  F G73         S\n",
              "2          641       No       3  ...   7.8542    NaN         S\n",
              "3          568       No       3  ...  21.0750    NaN         S\n",
              "4          672       No       1  ...  52.0000    B71         S\n",
              "\n",
              "[5 rows x 12 columns]"
            ]
          },
          "metadata": {
            "tags": []
          },
          "execution_count": 2
        }
      ]
    },
    {
      "cell_type": "code",
      "metadata": {
        "id": "zODt6NVfJpD6",
        "outputId": "0364c2aa-ece5-48cf-d283-3b9e0debeaab",
        "colab": {
          "base_uri": "https://localhost:8080/",
          "height": 272
        }
      },
      "source": [
        "df.tail()    #show last 5 rows\n",
        "#our data set includes 891 rows"
      ],
      "execution_count": 3,
      "outputs": [
        {
          "output_type": "execute_result",
          "data": {
            "text/html": [
              "<div>\n",
              "<style scoped>\n",
              "    .dataframe tbody tr th:only-of-type {\n",
              "        vertical-align: middle;\n",
              "    }\n",
              "\n",
              "    .dataframe tbody tr th {\n",
              "        vertical-align: top;\n",
              "    }\n",
              "\n",
              "    .dataframe thead th {\n",
              "        text-align: right;\n",
              "    }\n",
              "</style>\n",
              "<table border=\"1\" class=\"dataframe\">\n",
              "  <thead>\n",
              "    <tr style=\"text-align: right;\">\n",
              "      <th></th>\n",
              "      <th>PassengerId</th>\n",
              "      <th>Survived</th>\n",
              "      <th>Pclass</th>\n",
              "      <th>Name</th>\n",
              "      <th>Sex</th>\n",
              "      <th>Age</th>\n",
              "      <th>SibSp</th>\n",
              "      <th>Parch</th>\n",
              "      <th>Ticket</th>\n",
              "      <th>Fare</th>\n",
              "      <th>Cabin</th>\n",
              "      <th>Embarked</th>\n",
              "    </tr>\n",
              "  </thead>\n",
              "  <tbody>\n",
              "    <tr>\n",
              "      <th>886</th>\n",
              "      <td>10</td>\n",
              "      <td>Yes</td>\n",
              "      <td>2</td>\n",
              "      <td>Nasser, Mrs. Nicholas (Adele Achem)</td>\n",
              "      <td>female</td>\n",
              "      <td>14.0</td>\n",
              "      <td>1</td>\n",
              "      <td>0</td>\n",
              "      <td>237736</td>\n",
              "      <td>30.0708</td>\n",
              "      <td>NaN</td>\n",
              "      <td>C</td>\n",
              "    </tr>\n",
              "    <tr>\n",
              "      <th>887</th>\n",
              "      <td>61</td>\n",
              "      <td>No</td>\n",
              "      <td>3</td>\n",
              "      <td>Sirayanian, Mr. Orsen</td>\n",
              "      <td>male</td>\n",
              "      <td>22.0</td>\n",
              "      <td>0</td>\n",
              "      <td>0</td>\n",
              "      <td>2669</td>\n",
              "      <td>7.2292</td>\n",
              "      <td>NaN</td>\n",
              "      <td>C</td>\n",
              "    </tr>\n",
              "    <tr>\n",
              "      <th>888</th>\n",
              "      <td>535</td>\n",
              "      <td>No</td>\n",
              "      <td>3</td>\n",
              "      <td>Cacic, Miss. Marija</td>\n",
              "      <td>female</td>\n",
              "      <td>30.0</td>\n",
              "      <td>0</td>\n",
              "      <td>0</td>\n",
              "      <td>315084</td>\n",
              "      <td>8.6625</td>\n",
              "      <td>NaN</td>\n",
              "      <td>S</td>\n",
              "    </tr>\n",
              "    <tr>\n",
              "      <th>889</th>\n",
              "      <td>102</td>\n",
              "      <td>No</td>\n",
              "      <td>3</td>\n",
              "      <td>Petroff, Mr. Pastcho (\"Pentcho\")</td>\n",
              "      <td>male</td>\n",
              "      <td>NaN</td>\n",
              "      <td>0</td>\n",
              "      <td>0</td>\n",
              "      <td>349215</td>\n",
              "      <td>7.8958</td>\n",
              "      <td>NaN</td>\n",
              "      <td>S</td>\n",
              "    </tr>\n",
              "    <tr>\n",
              "      <th>890</th>\n",
              "      <td>428</td>\n",
              "      <td>Yes</td>\n",
              "      <td>2</td>\n",
              "      <td>Phillips, Miss. Kate Florence (\"Mrs Kate Louis...</td>\n",
              "      <td>female</td>\n",
              "      <td>19.0</td>\n",
              "      <td>0</td>\n",
              "      <td>0</td>\n",
              "      <td>250655</td>\n",
              "      <td>26.0000</td>\n",
              "      <td>NaN</td>\n",
              "      <td>S</td>\n",
              "    </tr>\n",
              "  </tbody>\n",
              "</table>\n",
              "</div>"
            ],
            "text/plain": [
              "     PassengerId Survived  Pclass  ...     Fare Cabin  Embarked\n",
              "886           10      Yes       2  ...  30.0708   NaN         C\n",
              "887           61       No       3  ...   7.2292   NaN         C\n",
              "888          535       No       3  ...   8.6625   NaN         S\n",
              "889          102       No       3  ...   7.8958   NaN         S\n",
              "890          428      Yes       2  ...  26.0000   NaN         S\n",
              "\n",
              "[5 rows x 12 columns]"
            ]
          },
          "metadata": {
            "tags": []
          },
          "execution_count": 3
        }
      ]
    },
    {
      "cell_type": "code",
      "metadata": {
        "id": "RZn5Srq1FCL6",
        "outputId": "537a89c2-72c6-4c47-80c8-fc803bc79cd1",
        "colab": {
          "base_uri": "https://localhost:8080/",
          "height": 357
        }
      },
      "source": [
        "df.info()     #General information about the dataset\n",
        "#We have both numerical(int64 and float64) and categorical(object) variable types"
      ],
      "execution_count": 4,
      "outputs": [
        {
          "output_type": "stream",
          "text": [
            "<class 'pandas.core.frame.DataFrame'>\n",
            "RangeIndex: 891 entries, 0 to 890\n",
            "Data columns (total 12 columns):\n",
            " #   Column       Non-Null Count  Dtype  \n",
            "---  ------       --------------  -----  \n",
            " 0   PassengerId  891 non-null    int64  \n",
            " 1   Survived     891 non-null    object \n",
            " 2   Pclass       891 non-null    int64  \n",
            " 3   Name         891 non-null    object \n",
            " 4   Sex          891 non-null    object \n",
            " 5   Age          714 non-null    float64\n",
            " 6   SibSp        891 non-null    int64  \n",
            " 7   Parch        891 non-null    int64  \n",
            " 8   Ticket       891 non-null    object \n",
            " 9   Fare         891 non-null    float64\n",
            " 10  Cabin        204 non-null    object \n",
            " 11  Embarked     889 non-null    object \n",
            "dtypes: float64(2), int64(4), object(6)\n",
            "memory usage: 83.7+ KB\n"
          ],
          "name": "stdout"
        }
      ]
    },
    {
      "cell_type": "code",
      "metadata": {
        "id": "gdOx7v5DHuPd",
        "outputId": "14cbc706-b643-4561-c44f-96887d8742a5",
        "colab": {
          "base_uri": "https://localhost:8080/",
          "height": 314
        }
      },
      "source": [
        "df.loc[:,[\"PassengerId\",\"Pclass\",\"SibSp\",\"Parch\"]].describe()      #Describe int type columns"
      ],
      "execution_count": 5,
      "outputs": [
        {
          "output_type": "execute_result",
          "data": {
            "text/html": [
              "<div>\n",
              "<style scoped>\n",
              "    .dataframe tbody tr th:only-of-type {\n",
              "        vertical-align: middle;\n",
              "    }\n",
              "\n",
              "    .dataframe tbody tr th {\n",
              "        vertical-align: top;\n",
              "    }\n",
              "\n",
              "    .dataframe thead th {\n",
              "        text-align: right;\n",
              "    }\n",
              "</style>\n",
              "<table border=\"1\" class=\"dataframe\">\n",
              "  <thead>\n",
              "    <tr style=\"text-align: right;\">\n",
              "      <th></th>\n",
              "      <th>PassengerId</th>\n",
              "      <th>Pclass</th>\n",
              "      <th>SibSp</th>\n",
              "      <th>Parch</th>\n",
              "    </tr>\n",
              "  </thead>\n",
              "  <tbody>\n",
              "    <tr>\n",
              "      <th>count</th>\n",
              "      <td>891.000000</td>\n",
              "      <td>891.000000</td>\n",
              "      <td>891.000000</td>\n",
              "      <td>891.000000</td>\n",
              "    </tr>\n",
              "    <tr>\n",
              "      <th>mean</th>\n",
              "      <td>446.000000</td>\n",
              "      <td>2.308642</td>\n",
              "      <td>0.523008</td>\n",
              "      <td>0.381594</td>\n",
              "    </tr>\n",
              "    <tr>\n",
              "      <th>std</th>\n",
              "      <td>257.353842</td>\n",
              "      <td>0.836071</td>\n",
              "      <td>1.102743</td>\n",
              "      <td>0.806057</td>\n",
              "    </tr>\n",
              "    <tr>\n",
              "      <th>min</th>\n",
              "      <td>1.000000</td>\n",
              "      <td>1.000000</td>\n",
              "      <td>0.000000</td>\n",
              "      <td>0.000000</td>\n",
              "    </tr>\n",
              "    <tr>\n",
              "      <th>25%</th>\n",
              "      <td>223.500000</td>\n",
              "      <td>2.000000</td>\n",
              "      <td>0.000000</td>\n",
              "      <td>0.000000</td>\n",
              "    </tr>\n",
              "    <tr>\n",
              "      <th>50%</th>\n",
              "      <td>446.000000</td>\n",
              "      <td>3.000000</td>\n",
              "      <td>0.000000</td>\n",
              "      <td>0.000000</td>\n",
              "    </tr>\n",
              "    <tr>\n",
              "      <th>75%</th>\n",
              "      <td>668.500000</td>\n",
              "      <td>3.000000</td>\n",
              "      <td>1.000000</td>\n",
              "      <td>0.000000</td>\n",
              "    </tr>\n",
              "    <tr>\n",
              "      <th>max</th>\n",
              "      <td>891.000000</td>\n",
              "      <td>3.000000</td>\n",
              "      <td>8.000000</td>\n",
              "      <td>6.000000</td>\n",
              "    </tr>\n",
              "  </tbody>\n",
              "</table>\n",
              "</div>"
            ],
            "text/plain": [
              "       PassengerId      Pclass       SibSp       Parch\n",
              "count   891.000000  891.000000  891.000000  891.000000\n",
              "mean    446.000000    2.308642    0.523008    0.381594\n",
              "std     257.353842    0.836071    1.102743    0.806057\n",
              "min       1.000000    1.000000    0.000000    0.000000\n",
              "25%     223.500000    2.000000    0.000000    0.000000\n",
              "50%     446.000000    3.000000    0.000000    0.000000\n",
              "75%     668.500000    3.000000    1.000000    0.000000\n",
              "max     891.000000    3.000000    8.000000    6.000000"
            ]
          },
          "metadata": {
            "tags": []
          },
          "execution_count": 5
        }
      ]
    },
    {
      "cell_type": "code",
      "metadata": {
        "id": "Y8DLA9QXI6Ux",
        "outputId": "0ed6bfa9-27fe-4453-d086-fc4c10a78003",
        "colab": {
          "base_uri": "https://localhost:8080/",
          "height": 314
        }
      },
      "source": [
        "df.loc[:,[\"Age\",\"Fare\"]].describe()      #describe float64 type columns"
      ],
      "execution_count": 6,
      "outputs": [
        {
          "output_type": "execute_result",
          "data": {
            "text/html": [
              "<div>\n",
              "<style scoped>\n",
              "    .dataframe tbody tr th:only-of-type {\n",
              "        vertical-align: middle;\n",
              "    }\n",
              "\n",
              "    .dataframe tbody tr th {\n",
              "        vertical-align: top;\n",
              "    }\n",
              "\n",
              "    .dataframe thead th {\n",
              "        text-align: right;\n",
              "    }\n",
              "</style>\n",
              "<table border=\"1\" class=\"dataframe\">\n",
              "  <thead>\n",
              "    <tr style=\"text-align: right;\">\n",
              "      <th></th>\n",
              "      <th>Age</th>\n",
              "      <th>Fare</th>\n",
              "    </tr>\n",
              "  </thead>\n",
              "  <tbody>\n",
              "    <tr>\n",
              "      <th>count</th>\n",
              "      <td>714.000000</td>\n",
              "      <td>891.000000</td>\n",
              "    </tr>\n",
              "    <tr>\n",
              "      <th>mean</th>\n",
              "      <td>29.699118</td>\n",
              "      <td>32.204208</td>\n",
              "    </tr>\n",
              "    <tr>\n",
              "      <th>std</th>\n",
              "      <td>14.526497</td>\n",
              "      <td>49.693429</td>\n",
              "    </tr>\n",
              "    <tr>\n",
              "      <th>min</th>\n",
              "      <td>0.420000</td>\n",
              "      <td>0.000000</td>\n",
              "    </tr>\n",
              "    <tr>\n",
              "      <th>25%</th>\n",
              "      <td>20.125000</td>\n",
              "      <td>7.910400</td>\n",
              "    </tr>\n",
              "    <tr>\n",
              "      <th>50%</th>\n",
              "      <td>28.000000</td>\n",
              "      <td>14.454200</td>\n",
              "    </tr>\n",
              "    <tr>\n",
              "      <th>75%</th>\n",
              "      <td>38.000000</td>\n",
              "      <td>31.000000</td>\n",
              "    </tr>\n",
              "    <tr>\n",
              "      <th>max</th>\n",
              "      <td>80.000000</td>\n",
              "      <td>512.329200</td>\n",
              "    </tr>\n",
              "  </tbody>\n",
              "</table>\n",
              "</div>"
            ],
            "text/plain": [
              "              Age        Fare\n",
              "count  714.000000  891.000000\n",
              "mean    29.699118   32.204208\n",
              "std     14.526497   49.693429\n",
              "min      0.420000    0.000000\n",
              "25%     20.125000    7.910400\n",
              "50%     28.000000   14.454200\n",
              "75%     38.000000   31.000000\n",
              "max     80.000000  512.329200"
            ]
          },
          "metadata": {
            "tags": []
          },
          "execution_count": 6
        }
      ]
    },
    {
      "cell_type": "code",
      "metadata": {
        "id": "2-xKS1mzIguI",
        "outputId": "0fc6270d-757b-40c8-dcc1-8ed2fc8651e3",
        "colab": {
          "base_uri": "https://localhost:8080/",
          "height": 190
        }
      },
      "source": [
        "df.loc[:,[\"Name\",\"Sex\",\"Ticket\",\"Cabin\",\"Embarked\"]].describe()     #describe object type columns"
      ],
      "execution_count": 7,
      "outputs": [
        {
          "output_type": "execute_result",
          "data": {
            "text/html": [
              "<div>\n",
              "<style scoped>\n",
              "    .dataframe tbody tr th:only-of-type {\n",
              "        vertical-align: middle;\n",
              "    }\n",
              "\n",
              "    .dataframe tbody tr th {\n",
              "        vertical-align: top;\n",
              "    }\n",
              "\n",
              "    .dataframe thead th {\n",
              "        text-align: right;\n",
              "    }\n",
              "</style>\n",
              "<table border=\"1\" class=\"dataframe\">\n",
              "  <thead>\n",
              "    <tr style=\"text-align: right;\">\n",
              "      <th></th>\n",
              "      <th>Name</th>\n",
              "      <th>Sex</th>\n",
              "      <th>Ticket</th>\n",
              "      <th>Cabin</th>\n",
              "      <th>Embarked</th>\n",
              "    </tr>\n",
              "  </thead>\n",
              "  <tbody>\n",
              "    <tr>\n",
              "      <th>count</th>\n",
              "      <td>891</td>\n",
              "      <td>891</td>\n",
              "      <td>891</td>\n",
              "      <td>204</td>\n",
              "      <td>889</td>\n",
              "    </tr>\n",
              "    <tr>\n",
              "      <th>unique</th>\n",
              "      <td>891</td>\n",
              "      <td>2</td>\n",
              "      <td>681</td>\n",
              "      <td>147</td>\n",
              "      <td>3</td>\n",
              "    </tr>\n",
              "    <tr>\n",
              "      <th>top</th>\n",
              "      <td>Parkes, Mr. Francis \"Frank\"</td>\n",
              "      <td>male</td>\n",
              "      <td>347082</td>\n",
              "      <td>G6</td>\n",
              "      <td>S</td>\n",
              "    </tr>\n",
              "    <tr>\n",
              "      <th>freq</th>\n",
              "      <td>1</td>\n",
              "      <td>577</td>\n",
              "      <td>7</td>\n",
              "      <td>4</td>\n",
              "      <td>644</td>\n",
              "    </tr>\n",
              "  </tbody>\n",
              "</table>\n",
              "</div>"
            ],
            "text/plain": [
              "                               Name   Sex  Ticket Cabin Embarked\n",
              "count                           891   891     891   204      889\n",
              "unique                          891     2     681   147        3\n",
              "top     Parkes, Mr. Francis \"Frank\"  male  347082    G6        S\n",
              "freq                              1   577       7     4      644"
            ]
          },
          "metadata": {
            "tags": []
          },
          "execution_count": 7
        }
      ]
    },
    {
      "cell_type": "code",
      "metadata": {
        "id": "6s5y3UfBG_BN",
        "outputId": "051ff935-fc99-436d-bded-8e382e23d5a0",
        "colab": {
          "base_uri": "https://localhost:8080/",
          "height": 119
        }
      },
      "source": [
        " df[\"Survived\"].describe()        #Describe the output: Survived"
      ],
      "execution_count": 8,
      "outputs": [
        {
          "output_type": "execute_result",
          "data": {
            "text/plain": [
              "count     891\n",
              "unique      2\n",
              "top        No\n",
              "freq      549\n",
              "Name: Survived, dtype: object"
            ]
          },
          "metadata": {
            "tags": []
          },
          "execution_count": 8
        }
      ]
    },
    {
      "cell_type": "code",
      "metadata": {
        "id": "ExOHQ5uENQup",
        "outputId": "e2f4fa73-ca08-47af-d899-3e15e9775d30",
        "colab": {
          "base_uri": "https://localhost:8080/",
          "height": 255
        }
      },
      "source": [
        "df.isnull().sum()\n",
        "#Age numerical variable contains 177 NaN values\n",
        "#Cabin categorical variable contains 687 NaN values\n",
        "#Embarked categorical variable contains 2 NaN values"
      ],
      "execution_count": 9,
      "outputs": [
        {
          "output_type": "execute_result",
          "data": {
            "text/plain": [
              "PassengerId      0\n",
              "Survived         0\n",
              "Pclass           0\n",
              "Name             0\n",
              "Sex              0\n",
              "Age            177\n",
              "SibSp            0\n",
              "Parch            0\n",
              "Ticket           0\n",
              "Fare             0\n",
              "Cabin          687\n",
              "Embarked         2\n",
              "dtype: int64"
            ]
          },
          "metadata": {
            "tags": []
          },
          "execution_count": 9
        }
      ]
    },
    {
      "cell_type": "code",
      "metadata": {
        "id": "5xQhAyY7OWQB"
      },
      "source": [
        " df.dropna(axis=1,thresh=500,inplace=True)        #delete columns with more than 500 NaN"
      ],
      "execution_count": 10,
      "outputs": []
    },
    {
      "cell_type": "code",
      "metadata": {
        "id": "GcN4YnppRtZG"
      },
      "source": [
        "df[\"Age\"].fillna(df[\"Age\"].mean(), inplace=True)  #replace NaN in variable Age with the mean"
      ],
      "execution_count": 11,
      "outputs": []
    },
    {
      "cell_type": "code",
      "metadata": {
        "id": "EzsRW6bjSuLS"
      },
      "source": [
        "df[\"Embarked\"].fillna(\"S\", inplace=True)          #replace NaN in variable Embarked with most frequent value \"S\""
      ],
      "execution_count": 12,
      "outputs": []
    },
    {
      "cell_type": "code",
      "metadata": {
        "id": "D7equ7KZTmCj",
        "outputId": "6c04b9ed-5a77-4458-c6c1-b514e1baecae",
        "colab": {
          "base_uri": "https://localhost:8080/",
          "height": 51
        }
      },
      "source": [
        "df.isnull().sum().sum()                           # verify there's no more NaN values"
      ],
      "execution_count": 13,
      "outputs": [
        {
          "output_type": "execute_result",
          "data": {
            "text/plain": [
              "0"
            ]
          },
          "metadata": {
            "tags": []
          },
          "execution_count": 13
        }
      ]
    },
    {
      "cell_type": "markdown",
      "metadata": {
        "id": "YYunJNciKhLx"
      },
      "source": [
        "# Data Visualization"
      ]
    },
    {
      "cell_type": "code",
      "metadata": {
        "id": "vvESIi5_Ux0w",
        "outputId": "bf7c760e-9ba0-42b6-adec-e698f1aae4e0",
        "colab": {
          "base_uri": "https://localhost:8080/",
          "height": 699
        }
      },
      "source": [
        "#*************Data visualization******************\n",
        "\n",
        "#the correlation between Sex and Age\n",
        "\n",
        "fig1=plt.figure()\n",
        "g=sns.FacetGrid(df,\"Sex\")\n",
        "g.map(plt.hist,\"Age\",bins=8)\n",
        "plt.title(\"Correlation between Sex and Age\")\n",
        "plt.ylabel(\"Survivers\")\n",
        "plt.xticks([i*10 for i in range(0,9)])\n"
      ],
      "execution_count": 14,
      "outputs": [
        {
          "output_type": "stream",
          "text": [
            "/usr/local/lib/python3.6/dist-packages/seaborn/_decorators.py:43: FutureWarning: Pass the following variable as a keyword arg: row. From version 0.12, the only valid positional argument will be `data`, and passing other arguments without an explicit keyword will result in an error or misinterpretation.\n",
            "  FutureWarning\n"
          ],
          "name": "stderr"
        },
        {
          "output_type": "execute_result",
          "data": {
            "text/plain": [
              "([<matplotlib.axis.XTick at 0x7fa204314588>,\n",
              "  <matplotlib.axis.XTick at 0x7fa2043142e8>,\n",
              "  <matplotlib.axis.XTick at 0x7fa2042e46d8>,\n",
              "  <matplotlib.axis.XTick at 0x7fa2042f45f8>,\n",
              "  <matplotlib.axis.XTick at 0x7fa2042f44a8>,\n",
              "  <matplotlib.axis.XTick at 0x7fa204280160>,\n",
              "  <matplotlib.axis.XTick at 0x7fa201a4b160>,\n",
              "  <matplotlib.axis.XTick at 0x7fa20434e898>,\n",
              "  <matplotlib.axis.XTick at 0x7fa2042acd68>],\n",
              " <a list of 9 Text major ticklabel objects>)"
            ]
          },
          "metadata": {
            "tags": []
          },
          "execution_count": 14
        },
        {
          "output_type": "display_data",
          "data": {
            "text/plain": [
              "<Figure size 432x288 with 0 Axes>"
            ]
          },
          "metadata": {
            "tags": []
          }
        },
        {
          "output_type": "display_data",
          "data": {
            "image/png": "[encoded data removed]",
            "text/plain": [
              "<Figure size 216x432 with 2 Axes>"
            ]
          },
          "metadata": {
            "tags": [],
            "needs_background": "light"
          }
        }
      ]
    },
    {
      "cell_type": "code",
      "metadata": {
        "id": "EoM5dTDyjZWv",
        "outputId": "de063eda-3c0b-4ef9-e79b-5e1ae296d86e",
        "colab": {
          "base_uri": "https://localhost:8080/",
          "height": 329
        }
      },
      "source": [
        "#Correlation between Pclass and Fare\n",
        "\n",
        "fig2=plt.figure()\n",
        "ax=sns.barplot(x=df['Pclass'],y=df['Fare'],hue=df['Survived'])\n",
        "plt.title(\"Correlation between Pclass and Fare\")"
      ],
      "execution_count": 15,
      "outputs": [
        {
          "output_type": "execute_result",
          "data": {
            "text/plain": [
              "Text(0.5, 1.0, 'Correlation between Pclass and Fare')"
            ]
          },
          "metadata": {
            "tags": []
          },
          "execution_count": 15
        },
        {
          "output_type": "display_data",
          "data": {
            "image/png": "[encoded data removed]",
            "text/plain": [
              "<Figure size 432x288 with 1 Axes>"
            ]
          },
          "metadata": {
            "tags": [],
            "needs_background": "light"
          }
        }
      ]
    },
    {
      "cell_type": "code",
      "metadata": {
        "id": "4Zbw_Y_poz_7",
        "outputId": "572e4072-3ae6-4fc4-b5e6-94993844c04e",
        "colab": {
          "base_uri": "https://localhost:8080/",
          "height": 601
        }
      },
      "source": [
        "def plot_correlation_map( df ):\n",
        "  corr = df.corr()\n",
        "  s , ax = plt.subplots( figsize =( 12 , 10 ) )\n",
        "  cmap = sns.diverging_palette( 220 , 10 , as_cmap = True )\n",
        "  s = sns.heatmap(corr, cmap = cmap,square=True, cbar_kws={ 'shrink' : .9 }, ax=ax, annot = True, annot_kws = { 'fontsize' : 12 })\n",
        "    \n",
        "plot_correlation_map( df )"
      ],
      "execution_count": 16,
      "outputs": [
        {
          "output_type": "display_data",
          "data": {
            "image/png": "[encoded data removed]",
            "text/plain": [
              "<Figure size 864x720 with 2 Axes>"
            ]
          },
          "metadata": {
            "tags": [],
            "needs_background": "light"
          }
        }
      ]
    },
    {
      "cell_type": "markdown",
      "metadata": {
        "id": "hQ99UGqdrbGn"
      },
      "source": [
        "EXPLANATION OF THE HEATMAP after running the function, we can see that the output represents a color-encoded matrix. in the color code bar,the blue part represents the negative correlations and the darker the blue the stronger the positive correlation. then the middle section where the colors are a little light or almost grey where we can not conclude on wether we have a correlation or not . and the red represents the positive correlation and the darker the red the stronger the positive correlation gets. for example if we want to know the correlation between Sibsp and Parch, we can see that there's a slight correlation of 0.41. we can also see diagnollay,that there's a complete correlation between the elements that are the same. if we look for very strong correlations,we don't find any positive ones but on the other hand we can see a very strong negative correlation between Pclass and Fare and that means as the Fare goes up , the Pclass goes down. if we compare the heatmap to a scatter platform based on the same dataset using seaborn pairplot,we notice that they match as far as correlation goes. if we look at Sibpsp and Parch , we can see that there's a fairly slight correlation going up, we'd expect that to be a slight red in the heatmap which is the case. and we get pretty much the same thing if we look at the correlation between Fare and Pclass, a strongly negative one going down and a dark blue code on the heatmap."
      ]
    },
    {
      "cell_type": "code",
      "metadata": {
        "id": "p71S8M7Rrhkn",
        "outputId": "bf062b74-6267-40bd-d682-01bd30952540",
        "colab": {
          "base_uri": "https://localhost:8080/",
          "height": 159
        }
      },
      "source": [
        "#The relation between Pclass and survived \n",
        "df[['Pclass','Survived']].groupby(['Survived'],as_index=True).mean()"
      ],
      "execution_count": 17,
      "outputs": [
        {
          "output_type": "execute_result",
          "data": {
            "text/html": [
              "<div>\n",
              "<style scoped>\n",
              "    .dataframe tbody tr th:only-of-type {\n",
              "        vertical-align: middle;\n",
              "    }\n",
              "\n",
              "    .dataframe tbody tr th {\n",
              "        vertical-align: top;\n",
              "    }\n",
              "\n",
              "    .dataframe thead th {\n",
              "        text-align: right;\n",
              "    }\n",
              "</style>\n",
              "<table border=\"1\" class=\"dataframe\">\n",
              "  <thead>\n",
              "    <tr style=\"text-align: right;\">\n",
              "      <th></th>\n",
              "      <th>Pclass</th>\n",
              "    </tr>\n",
              "    <tr>\n",
              "      <th>Survived</th>\n",
              "      <th></th>\n",
              "    </tr>\n",
              "  </thead>\n",
              "  <tbody>\n",
              "    <tr>\n",
              "      <th>No</th>\n",
              "      <td>2.531876</td>\n",
              "    </tr>\n",
              "    <tr>\n",
              "      <th>Yes</th>\n",
              "      <td>1.950292</td>\n",
              "    </tr>\n",
              "  </tbody>\n",
              "</table>\n",
              "</div>"
            ],
            "text/plain": [
              "            Pclass\n",
              "Survived          \n",
              "No        2.531876\n",
              "Yes       1.950292"
            ]
          },
          "metadata": {
            "tags": []
          },
          "execution_count": 17
        }
      ]
    },
    {
      "cell_type": "code",
      "metadata": {
        "id": "O0ShjTG3spdn"
      },
      "source": [
        "df[\"Title\"]=df[\"Name\"]                  #create a new feature called \"Title\"\n",
        "df.drop(columns=\"Name\", inplace=True)   #drop \"Name\" feature"
      ],
      "execution_count": 18,
      "outputs": []
    },
    {
      "cell_type": "code",
      "metadata": {
        "id": "J693bnjiv8qq"
      },
      "source": [
        "title=[]\n",
        "for t in df[\"Title\"]:\n",
        "  t=t.split(\",\")\n",
        "  t=t[1].split(\".\")\n",
        "  title.append(t[0])\n",
        "df[\"Title\"]=title"
      ],
      "execution_count": 19,
      "outputs": []
    },
    {
      "cell_type": "code",
      "metadata": {
        "id": "akTCEcbJwGXB",
        "outputId": "5ee60629-2491-449e-a594-9b9982baa494",
        "colab": {
          "base_uri": "https://localhost:8080/",
          "height": 221
        }
      },
      "source": [
        "df.head()"
      ],
      "execution_count": 20,
      "outputs": [
        {
          "output_type": "execute_result",
          "data": {
            "text/html": [
              "<div>\n",
              "<style scoped>\n",
              "    .dataframe tbody tr th:only-of-type {\n",
              "        vertical-align: middle;\n",
              "    }\n",
              "\n",
              "    .dataframe tbody tr th {\n",
              "        vertical-align: top;\n",
              "    }\n",
              "\n",
              "    .dataframe thead th {\n",
              "        text-align: right;\n",
              "    }\n",
              "</style>\n",
              "<table border=\"1\" class=\"dataframe\">\n",
              "  <thead>\n",
              "    <tr style=\"text-align: right;\">\n",
              "      <th></th>\n",
              "      <th>PassengerId</th>\n",
              "      <th>Survived</th>\n",
              "      <th>Pclass</th>\n",
              "      <th>Sex</th>\n",
              "      <th>Age</th>\n",
              "      <th>SibSp</th>\n",
              "      <th>Parch</th>\n",
              "      <th>Ticket</th>\n",
              "      <th>Fare</th>\n",
              "      <th>Embarked</th>\n",
              "      <th>Title</th>\n",
              "    </tr>\n",
              "  </thead>\n",
              "  <tbody>\n",
              "    <tr>\n",
              "      <th>0</th>\n",
              "      <td>343</td>\n",
              "      <td>No</td>\n",
              "      <td>2</td>\n",
              "      <td>male</td>\n",
              "      <td>28.0</td>\n",
              "      <td>0</td>\n",
              "      <td>0</td>\n",
              "      <td>248740</td>\n",
              "      <td>13.0000</td>\n",
              "      <td>S</td>\n",
              "      <td>Mr</td>\n",
              "    </tr>\n",
              "    <tr>\n",
              "      <th>1</th>\n",
              "      <td>76</td>\n",
              "      <td>No</td>\n",
              "      <td>3</td>\n",
              "      <td>male</td>\n",
              "      <td>25.0</td>\n",
              "      <td>0</td>\n",
              "      <td>0</td>\n",
              "      <td>348123</td>\n",
              "      <td>7.6500</td>\n",
              "      <td>S</td>\n",
              "      <td>Mr</td>\n",
              "    </tr>\n",
              "    <tr>\n",
              "      <th>2</th>\n",
              "      <td>641</td>\n",
              "      <td>No</td>\n",
              "      <td>3</td>\n",
              "      <td>male</td>\n",
              "      <td>20.0</td>\n",
              "      <td>0</td>\n",
              "      <td>0</td>\n",
              "      <td>350050</td>\n",
              "      <td>7.8542</td>\n",
              "      <td>S</td>\n",
              "      <td>Mr</td>\n",
              "    </tr>\n",
              "    <tr>\n",
              "      <th>3</th>\n",
              "      <td>568</td>\n",
              "      <td>No</td>\n",
              "      <td>3</td>\n",
              "      <td>female</td>\n",
              "      <td>29.0</td>\n",
              "      <td>0</td>\n",
              "      <td>4</td>\n",
              "      <td>349909</td>\n",
              "      <td>21.0750</td>\n",
              "      <td>S</td>\n",
              "      <td>Mrs</td>\n",
              "    </tr>\n",
              "    <tr>\n",
              "      <th>4</th>\n",
              "      <td>672</td>\n",
              "      <td>No</td>\n",
              "      <td>1</td>\n",
              "      <td>male</td>\n",
              "      <td>31.0</td>\n",
              "      <td>1</td>\n",
              "      <td>0</td>\n",
              "      <td>F.C. 12750</td>\n",
              "      <td>52.0000</td>\n",
              "      <td>S</td>\n",
              "      <td>Mr</td>\n",
              "    </tr>\n",
              "  </tbody>\n",
              "</table>\n",
              "</div>"
            ],
            "text/plain": [
              "   PassengerId Survived  Pclass     Sex  ...      Ticket     Fare  Embarked Title\n",
              "0          343       No       2    male  ...      248740  13.0000         S    Mr\n",
              "1           76       No       3    male  ...      348123   7.6500         S    Mr\n",
              "2          641       No       3    male  ...      350050   7.8542         S    Mr\n",
              "3          568       No       3  female  ...      349909  21.0750         S   Mrs\n",
              "4          672       No       1    male  ...  F.C. 12750  52.0000         S    Mr\n",
              "\n",
              "[5 rows x 11 columns]"
            ]
          },
          "metadata": {
            "tags": []
          },
          "execution_count": 20
        }
      ]
    },
    {
      "cell_type": "code",
      "metadata": {
        "id": "XDU2cG54Voxi",
        "outputId": "26413c54-b201-42f0-cf45-c961e04079b2",
        "colab": {
          "base_uri": "https://localhost:8080/",
          "height": 323
        }
      },
      "source": [
        "#Correlation between Title and other features\n",
        "\n",
        "fig3=plt.figure()\n",
        "sns.countplot(x=\"Title\", data=df)\n",
        "plt.title(\"Survivers by title\")\n",
        "plt.xticks(fontsize=4)\n",
        "plt.ylabel(\"Survivers\")"
      ],
      "execution_count": 21,
      "outputs": [
        {
          "output_type": "execute_result",
          "data": {
            "text/plain": [
              "Text(0, 0.5, 'Survivers')"
            ]
          },
          "metadata": {
            "tags": []
          },
          "execution_count": 21
        },
        {
          "output_type": "display_data",
          "data": {
            "image/png": "[encoded data removed]",
            "text/plain": [
              "<Figure size 432x288 with 1 Axes>"
            ]
          },
          "metadata": {
            "tags": [],
            "needs_background": "light"
          }
        }
      ]
    },
    {
      "cell_type": "code",
      "metadata": {
        "id": "ami8k35dxnJV",
        "outputId": "d029c7aa-2a6c-4354-d4f8-c045c4e7f08f",
        "colab": {
          "base_uri": "https://localhost:8080/",
          "height": 1000
        }
      },
      "source": [
        "fig4=plt.figure()\n",
        "g2=sns.FacetGrid(df, row=\"Title\", col=\"Survived\")\n",
        "g2.map(sns.scatterplot, \"Age\", \"Fare\")\n",
        "plt.xticks([i*10 for i in range(0,9)])\n"
      ],
      "execution_count": 22,
      "outputs": [
        {
          "output_type": "execute_result",
          "data": {
            "text/plain": [
              "([<matplotlib.axis.XTick at 0x7fa200d895c0>,\n",
              "  <matplotlib.axis.XTick at 0x7fa200d89b38>,\n",
              "  <matplotlib.axis.XTick at 0x7fa200b63048>,\n",
              "  <matplotlib.axis.XTick at 0x7fa200b6b278>,\n",
              "  <matplotlib.axis.XTick at 0x7fa200b6ba20>,\n",
              "  <matplotlib.axis.XTick at 0x7fa200b6beb8>,\n",
              "  <matplotlib.axis.XTick at 0x7fa200a30fd0>,\n",
              "  <matplotlib.axis.XTick at 0x7fa20135a208>,\n",
              "  <matplotlib.axis.XTick at 0x7fa200a3bbe0>],\n",
              " <a list of 9 Text major ticklabel objects>)"
            ]
          },
          "metadata": {
            "tags": []
          },
          "execution_count": 22
        },
        {
          "output_type": "display_data",
          "data": {
            "text/plain": [
              "<Figure size 432x288 with 0 Axes>"
            ]
          },
          "metadata": {
            "tags": []
          }
        },
        {
          "output_type": "display_data",
          "data": {
            "image/png": "[encoded data removed]",
            "text/plain": [
              "<Figure size 432x3672 with 34 Axes>"
            ]
          },
          "metadata": {
            "tags": [],
            "needs_background": "light"
          }
        }
      ]
    },
    {
      "cell_type": "code",
      "metadata": {
        "id": "WIpyHH3_wVw6",
        "outputId": "63502a03-2419-4aa2-dcc4-cfe7fa4fe57c",
        "colab": {
          "base_uri": "https://localhost:8080/",
          "height": 544
        }
      },
      "source": [
        "# group these titles into more useful ones\n",
        "\n",
        "print(df[\"Title\"].value_counts())\n",
        "\n",
        "Title_Dictionary = {\n",
        "                    \"Capt\":       \"Officer\",\n",
        "                    \"Col\":        \"Officer\",\n",
        "                    \"Major\":      \"Officer\",\n",
        "                    \"Dr\":         \"Officer\",\n",
        "                    \"Rev\":        \"Officer\",\n",
        "                    \"Jonkheer\":   \"Royalty\",\n",
        "                    \"Don\":        \"Royalty\",\n",
        "                    \"Sir\" :       \"Royalty\",\n",
        "                    \"Lady\" :      \"Royalty\",\n",
        "                    \"the Countess\": \"Royalty\",\n",
        "                    \"Dona\":       \"Royalty\",\n",
        "                    \"Mme\":        \"Miss\",\n",
        "                    \"Mlle\":       \"Miss\",\n",
        "                    \"Miss\" :      \"Miss\",\n",
        "                    \"Ms\":         \"Mrs\",\n",
        "                    \"Mr\" :        \"Mrs\",\n",
        "                    \"Mrs\" :       \"Mrs\",\n",
        "                    \"Master\" :    \"Master\"\n",
        "                    }\n",
        "print(df.isnull().sum())\n",
        "\n",
        "df[\"Title\"]=df[\"Title\"].str.strip()\n",
        "df[\"Title\"] = df[\"Title\"].map(Title_Dictionary)\n"
      ],
      "execution_count": 23,
      "outputs": [
        {
          "output_type": "stream",
          "text": [
            " Mr              517\n",
            " Miss            182\n",
            " Mrs             125\n",
            " Master           40\n",
            " Dr                7\n",
            " Rev               6\n",
            " Col               2\n",
            " Mlle              2\n",
            " Major             2\n",
            " Mme               1\n",
            " Lady              1\n",
            " Capt              1\n",
            " Ms                1\n",
            " Sir               1\n",
            " the Countess      1\n",
            " Don               1\n",
            " Jonkheer          1\n",
            "Name: Title, dtype: int64\n",
            "PassengerId    0\n",
            "Survived       0\n",
            "Pclass         0\n",
            "Sex            0\n",
            "Age            0\n",
            "SibSp          0\n",
            "Parch          0\n",
            "Ticket         0\n",
            "Fare           0\n",
            "Embarked       0\n",
            "Title          0\n",
            "dtype: int64\n"
          ],
          "name": "stdout"
        }
      ]
    },
    {
      "cell_type": "code",
      "metadata": {
        "id": "61xlCqVg2TZQ",
        "outputId": "f0dab83b-6ce3-4c36-acac-8a9fd420d012",
        "colab": {
          "base_uri": "https://localhost:8080/",
          "height": 136
        }
      },
      "source": [
        "df[\"Title\"].value_counts()"
      ],
      "execution_count": 24,
      "outputs": [
        {
          "output_type": "execute_result",
          "data": {
            "text/plain": [
              "Mrs        643\n",
              "Miss       185\n",
              "Master      40\n",
              "Officer     18\n",
              "Royalty      5\n",
              "Name: Title, dtype: int64"
            ]
          },
          "metadata": {
            "tags": []
          },
          "execution_count": 24
        }
      ]
    },
    {
      "cell_type": "code",
      "metadata": {
        "id": "FXCTaW3-WKA9",
        "outputId": "e198f541-1bb6-4a6b-cf43-553b6977ca5b",
        "colab": {
          "base_uri": "https://localhost:8080/",
          "height": 329
        }
      },
      "source": [
        "#New correlation between Title and other features\n",
        "\n",
        "fig5=plt.figure()\n",
        "sns.countplot(x=\"Title\", data=df)\n",
        "plt.title(\"Survivers by title\")\n",
        "plt.ylabel(\"Survivers\")"
      ],
      "execution_count": 25,
      "outputs": [
        {
          "output_type": "execute_result",
          "data": {
            "text/plain": [
              "Text(0, 0.5, 'Survivers')"
            ]
          },
          "metadata": {
            "tags": []
          },
          "execution_count": 25
        },
        {
          "output_type": "display_data",
          "data": {
            "image/png": "[encoded data removed]",
            "text/plain": [
              "<Figure size 432x288 with 1 Axes>"
            ]
          },
          "metadata": {
            "tags": [],
            "needs_background": "light"
          }
        }
      ]
    },
    {
      "cell_type": "code",
      "metadata": {
        "id": "0WXzjIbIzKRt",
        "outputId": "436dd4aa-437f-42c9-9dcd-4f4fdf6b6c98",
        "colab": {
          "base_uri": "https://localhost:8080/",
          "height": 1000
        }
      },
      "source": [
        "#Correlation between \"Title\", \"Age\", \"Fare\" and \"Survived\"\n",
        "\n",
        "fig6=plt.figure()\n",
        "g3=sns.FacetGrid(df, row=\"Title\", col=\"Survived\")\n",
        "g3.map(sns.scatterplot, \"Age\", \"Fare\")\n",
        "plt.xticks([i*10 for i in range(0,9)])"
      ],
      "execution_count": 26,
      "outputs": [
        {
          "output_type": "execute_result",
          "data": {
            "text/plain": [
              "([<matplotlib.axis.XTick at 0x7fa1fedb0cc0>,\n",
              "  <matplotlib.axis.XTick at 0x7fa1fedb09b0>,\n",
              "  <matplotlib.axis.XTick at 0x7fa1fed069b0>,\n",
              "  <matplotlib.axis.XTick at 0x7fa1fed65780>,\n",
              "  <matplotlib.axis.XTick at 0x7fa1fed516d8>,\n",
              "  <matplotlib.axis.XTick at 0x7fa1fed43278>,\n",
              "  <matplotlib.axis.XTick at 0x7fa1fed1ff60>,\n",
              "  <matplotlib.axis.XTick at 0x7fa2007e0a58>,\n",
              "  <matplotlib.axis.XTick at 0x7fa2008f1da0>],\n",
              " <a list of 9 Text major ticklabel objects>)"
            ]
          },
          "metadata": {
            "tags": []
          },
          "execution_count": 26
        },
        {
          "output_type": "display_data",
          "data": {
            "text/plain": [
              "<Figure size 432x288 with 0 Axes>"
            ]
          },
          "metadata": {
            "tags": []
          }
        },
        {
          "output_type": "display_data",
          "data": {
            "image/png": "[encoded data removed]",
            "text/plain": [
              "<Figure size 432x1080 with 10 Axes>"
            ]
          },
          "metadata": {
            "tags": [],
            "needs_background": "light"
          }
        }
      ]
    },
    {
      "cell_type": "code",
      "metadata": {
        "id": "YIym4iBdVNLF",
        "outputId": "2980470e-5d01-47e4-8fa0-8269ccab5bda",
        "colab": {
          "base_uri": "https://localhost:8080/",
          "height": 221
        }
      },
      "source": [
        "df[\"FamilySize\"]=df[\"Parch\"]+df[\"SibSp\"]    #create FamilySize new feature\n",
        "df.drop(['Parch'],axis=1)\n",
        "df.drop(['SibSp'],axis=1)\n",
        "df.head()"
      ],
      "execution_count": 27,
      "outputs": [
        {
          "output_type": "execute_result",
          "data": {
            "text/html": [
              "<div>\n",
              "<style scoped>\n",
              "    .dataframe tbody tr th:only-of-type {\n",
              "        vertical-align: middle;\n",
              "    }\n",
              "\n",
              "    .dataframe tbody tr th {\n",
              "        vertical-align: top;\n",
              "    }\n",
              "\n",
              "    .dataframe thead th {\n",
              "        text-align: right;\n",
              "    }\n",
              "</style>\n",
              "<table border=\"1\" class=\"dataframe\">\n",
              "  <thead>\n",
              "    <tr style=\"text-align: right;\">\n",
              "      <th></th>\n",
              "      <th>PassengerId</th>\n",
              "      <th>Survived</th>\n",
              "      <th>Pclass</th>\n",
              "      <th>Sex</th>\n",
              "      <th>Age</th>\n",
              "      <th>SibSp</th>\n",
              "      <th>Parch</th>\n",
              "      <th>Ticket</th>\n",
              "      <th>Fare</th>\n",
              "      <th>Embarked</th>\n",
              "      <th>Title</th>\n",
              "      <th>FamilySize</th>\n",
              "    </tr>\n",
              "  </thead>\n",
              "  <tbody>\n",
              "    <tr>\n",
              "      <th>0</th>\n",
              "      <td>343</td>\n",
              "      <td>No</td>\n",
              "      <td>2</td>\n",
              "      <td>male</td>\n",
              "      <td>28.0</td>\n",
              "      <td>0</td>\n",
              "      <td>0</td>\n",
              "      <td>248740</td>\n",
              "      <td>13.0000</td>\n",
              "      <td>S</td>\n",
              "      <td>Mrs</td>\n",
              "      <td>0</td>\n",
              "    </tr>\n",
              "    <tr>\n",
              "      <th>1</th>\n",
              "      <td>76</td>\n",
              "      <td>No</td>\n",
              "      <td>3</td>\n",
              "      <td>male</td>\n",
              "      <td>25.0</td>\n",
              "      <td>0</td>\n",
              "      <td>0</td>\n",
              "      <td>348123</td>\n",
              "      <td>7.6500</td>\n",
              "      <td>S</td>\n",
              "      <td>Mrs</td>\n",
              "      <td>0</td>\n",
              "    </tr>\n",
              "    <tr>\n",
              "      <th>2</th>\n",
              "      <td>641</td>\n",
              "      <td>No</td>\n",
              "      <td>3</td>\n",
              "      <td>male</td>\n",
              "      <td>20.0</td>\n",
              "      <td>0</td>\n",
              "      <td>0</td>\n",
              "      <td>350050</td>\n",
              "      <td>7.8542</td>\n",
              "      <td>S</td>\n",
              "      <td>Mrs</td>\n",
              "      <td>0</td>\n",
              "    </tr>\n",
              "    <tr>\n",
              "      <th>3</th>\n",
              "      <td>568</td>\n",
              "      <td>No</td>\n",
              "      <td>3</td>\n",
              "      <td>female</td>\n",
              "      <td>29.0</td>\n",
              "      <td>0</td>\n",
              "      <td>4</td>\n",
              "      <td>349909</td>\n",
              "      <td>21.0750</td>\n",
              "      <td>S</td>\n",
              "      <td>Mrs</td>\n",
              "      <td>4</td>\n",
              "    </tr>\n",
              "    <tr>\n",
              "      <th>4</th>\n",
              "      <td>672</td>\n",
              "      <td>No</td>\n",
              "      <td>1</td>\n",
              "      <td>male</td>\n",
              "      <td>31.0</td>\n",
              "      <td>1</td>\n",
              "      <td>0</td>\n",
              "      <td>F.C. 12750</td>\n",
              "      <td>52.0000</td>\n",
              "      <td>S</td>\n",
              "      <td>Mrs</td>\n",
              "      <td>1</td>\n",
              "    </tr>\n",
              "  </tbody>\n",
              "</table>\n",
              "</div>"
            ],
            "text/plain": [
              "   PassengerId Survived  Pclass     Sex  ...     Fare  Embarked  Title FamilySize\n",
              "0          343       No       2    male  ...  13.0000         S    Mrs          0\n",
              "1           76       No       3    male  ...   7.6500         S    Mrs          0\n",
              "2          641       No       3    male  ...   7.8542         S    Mrs          0\n",
              "3          568       No       3  female  ...  21.0750         S    Mrs          4\n",
              "4          672       No       1    male  ...  52.0000         S    Mrs          1\n",
              "\n",
              "[5 rows x 12 columns]"
            ]
          },
          "metadata": {
            "tags": []
          },
          "execution_count": 27
        }
      ]
    },
    {
      "cell_type": "code",
      "metadata": {
        "id": "7iVK7_MLjBZY"
      },
      "source": [
        "#Is it useful?\n",
        "\n",
        "s=df[\"FamilySize\"]\n",
        "s=pd.core.frame.DataFrame(s)\n",
        "s[\"Sur\"]=df[\"Survived\"]\n",
        "a=0\n",
        "b=0\n",
        "l1=[0 for i in range(df[\"FamilySize\"].max()+1)]\n",
        "while b<len(s):\n",
        "  if s.iloc[b,1]==\"Yes\":\n",
        "    while a<(df[\"FamilySize\"].max()+1):\n",
        "      if s.iloc[b,0]==a:\n",
        "        l1[a]+=1\n",
        "      a+=1\n",
        "  b+=1\n",
        "  a=0\n",
        "\n",
        "s1=s[\"FamilySize\"].value_counts()\n",
        "l2=[]\n",
        "d=0\n",
        "while d<(df[\"FamilySize\"].max()+1):\n",
        "  try:\n",
        "    l2.insert(d,s1[d])\n",
        "  except:\n",
        "    l2.insert(d,0)\n",
        "  d+=1\n",
        "l2=[l2[nb]-l1[nb] for nb in range(df[\"FamilySize\"].max()+1)]"
      ],
      "execution_count": 28,
      "outputs": []
    },
    {
      "cell_type": "code",
      "metadata": {
        "id": "J6bQMba3XdzL",
        "outputId": "06f3c770-1272-45b2-8b77-35d1a72048fb",
        "colab": {
          "base_uri": "https://localhost:8080/",
          "height": 385
        }
      },
      "source": [
        "labels=[(str(i)+\" mem\") for i in range(df[\"FamilySize\"].min(),df[\"FamilySize\"].max()+1)]\n",
        "\n",
        "x=np.arange(len(labels))\n",
        "fig7=plt.figure()\n",
        "ax2=fig7.add_axes([0,0,1,1])\n",
        "ax2.set_xticks(x)\n",
        "ax2.set_xticklabels(labels)\n",
        "plt.xticks(fontsize=8)\n",
        "plt.title(\"Survivers by family size\")\n",
        "ax2.bar(x-0.15,l1,width=0.30)\n",
        "ax2.bar(x+0.15,l2,width=0.30)\n",
        "ax2.legend([\"Survive\",\"Did not survive\"])"
      ],
      "execution_count": 29,
      "outputs": [
        {
          "output_type": "execute_result",
          "data": {
            "text/plain": [
              "<matplotlib.legend.Legend at 0x7fa1fec1e748>"
            ]
          },
          "metadata": {
            "tags": []
          },
          "execution_count": 29
        },
        {
          "output_type": "display_data",
          "data": {
            "image/png": "[encoded data removed]",
            "text/plain": [
              "<Figure size 432x288 with 1 Axes>"
            ]
          },
          "metadata": {
            "tags": [],
            "needs_background": "light"
          }
        }
      ]
    },
    {
      "cell_type": "markdown",
      "metadata": {
        "id": "yoXfsXYaMTFF"
      },
      "source": [
        "# Features transformation"
      ]
    },
    {
      "cell_type": "code",
      "metadata": {
        "id": "gBjC6OWyIhMV",
        "outputId": "f8065724-d2f1-418d-8554-05fc6371a8f6",
        "colab": {
          "base_uri": "https://localhost:8080/",
          "height": 459
        }
      },
      "source": [
        "#**************Features transformation*******************\n",
        "\n",
        "clean_survived={\n",
        "    \"Survived\":{\"No\":0, \"Yes\":1}\n",
        "}\n",
        "df.replace(clean_survived, inplace=True)\n",
        "\n",
        "clean_sex={\n",
        "    \"Sex\":{\"male\":1, \"female\":2}\n",
        "}\n",
        "df.replace(clean_sex, inplace=True)\n",
        "\n",
        "one_hot_title=pd.get_dummies(df[\"Title\"])\n",
        "df=df.drop(columns=\"Title\")\n",
        "df=df.join(one_hot_title)\n",
        "\n",
        "one_hot_embarked=pd.get_dummies(df[\"Embarked\"])\n",
        "df=df.drop(columns=\"Embarked\")\n",
        "df=df.join(one_hot_embarked)\n",
        "\n",
        "df.info()\n",
        "#There's not object type values, except the Ticket variable, which is useless in our case."
      ],
      "execution_count": 30,
      "outputs": [
        {
          "output_type": "stream",
          "text": [
            "<class 'pandas.core.frame.DataFrame'>\n",
            "RangeIndex: 891 entries, 0 to 890\n",
            "Data columns (total 18 columns):\n",
            " #   Column       Non-Null Count  Dtype  \n",
            "---  ------       --------------  -----  \n",
            " 0   PassengerId  891 non-null    int64  \n",
            " 1   Survived     891 non-null    int64  \n",
            " 2   Pclass       891 non-null    int64  \n",
            " 3   Sex          891 non-null    int64  \n",
            " 4   Age          891 non-null    float64\n",
            " 5   SibSp        891 non-null    int64  \n",
            " 6   Parch        891 non-null    int64  \n",
            " 7   Ticket       891 non-null    object \n",
            " 8   Fare         891 non-null    float64\n",
            " 9   FamilySize   891 non-null    int64  \n",
            " 10  Master       891 non-null    uint8  \n",
            " 11  Miss         891 non-null    uint8  \n",
            " 12  Mrs          891 non-null    uint8  \n",
            " 13  Officer      891 non-null    uint8  \n",
            " 14  Royalty      891 non-null    uint8  \n",
            " 15  C            891 non-null    uint8  \n",
            " 16  Q            891 non-null    uint8  \n",
            " 17  S            891 non-null    uint8  \n",
            "dtypes: float64(2), int64(7), object(1), uint8(8)\n",
            "memory usage: 76.7+ KB\n"
          ],
          "name": "stdout"
        }
      ]
    },
    {
      "cell_type": "markdown",
      "metadata": {
        "id": "WftikUX8Mijy"
      },
      "source": [
        "# Machine Learning"
      ]
    },
    {
      "cell_type": "code",
      "metadata": {
        "id": "o72Dg93EMldB"
      },
      "source": [
        "#*************Logistic regression**************\n",
        "\n",
        "#Features extraction\n",
        "\n",
        "x=df[[elt for elt in df.columns if elt not in [\"PassengerId\",\"Survived\",\"SibSp\",\"Parch\",\"Ticket\"]]]\n",
        "y=df[\"Survived\"]"
      ],
      "execution_count": 35,
      "outputs": []
    },
    {
      "cell_type": "code",
      "metadata": {
        "id": "etuQVFUzO2GU"
      },
      "source": [
        "#Dataset splitting\n",
        "\n",
        "x_train,x_test,y_train,y_test=train_test_split(x,y,test_size=0.30,random_state=40)  #Splitting data with test part is 30%"
      ],
      "execution_count": 38,
      "outputs": []
    },
    {
      "cell_type": "code",
      "metadata": {
        "id": "CHm5i5Z7PI4r",
        "outputId": "5c59273f-6bd8-461b-cb28-515a50f282c1",
        "colab": {
          "base_uri": "https://localhost:8080/",
          "height": 207
        }
      },
      "source": [
        "# Model creation\n",
        "\n",
        "logreg=LogisticRegression() \n",
        "logreg.fit(x_train, y_train)\n",
        "y_pred=logreg.predict(x_test) \n",
        "\n",
        "print(\"Accuracy: {acc}%\".format(acc=logreg.score(x_test, y_test)*100))"
      ],
      "execution_count": 41,
      "outputs": [
        {
          "output_type": "stream",
          "text": [
            "Accuracy: 84.70149253731343%\n"
          ],
          "name": "stdout"
        },
        {
          "output_type": "stream",
          "text": [
            "/usr/local/lib/python3.6/dist-packages/sklearn/linear_model/_logistic.py:940: ConvergenceWarning: lbfgs failed to converge (status=1):\n",
            "STOP: TOTAL NO. of ITERATIONS REACHED LIMIT.\n",
            "\n",
            "Increase the number of iterations (max_iter) or scale the data as shown in:\n",
            "    https://scikit-learn.org/stable/modules/preprocessing.html\n",
            "Please also refer to the documentation for alternative solver options:\n",
            "    https://scikit-learn.org/stable/modules/linear_model.html#logistic-regression\n",
            "  extra_warning_msg=_LOGISTIC_SOLVER_CONVERGENCE_MSG)\n"
          ],
          "name": "stderr"
        }
      ]
    },
    {
      "cell_type": "code",
      "metadata": {
        "id": "FNniGztXTNQa",
        "outputId": "64c85dd9-2777-49f8-dc8e-3ca4de6356d9",
        "colab": {
          "base_uri": "https://localhost:8080/",
          "height": 383
        }
      },
      "source": [
        "#Model plotting\n",
        "\n",
        "fig8=plt.figure()\n",
        "plt.title(\"Logistic regression\")\n",
        "sns.regplot(\"Age\", \"Survived\", data=df, logistic=True, marker=\"+\", color=\"magenta\" )"
      ],
      "execution_count": 56,
      "outputs": [
        {
          "output_type": "stream",
          "text": [
            "/usr/local/lib/python3.6/dist-packages/seaborn/_decorators.py:43: FutureWarning: Pass the following variables as keyword args: x, y. From version 0.12, the only valid positional argument will be `data`, and passing other arguments without an explicit keyword will result in an error or misinterpretation.\n",
            "  FutureWarning\n"
          ],
          "name": "stderr"
        },
        {
          "output_type": "execute_result",
          "data": {
            "text/plain": [
              "<matplotlib.axes._subplots.AxesSubplot at 0x7fa1f2ab00f0>"
            ]
          },
          "metadata": {
            "tags": []
          },
          "execution_count": 56
        },
        {
          "output_type": "display_data",
          "data": {
            "image/png": "[encoded data removed]",
            "text/plain": [
              "<Figure size 432x288 with 1 Axes>"
            ]
          },
          "metadata": {
            "tags": [],
            "needs_background": "light"
          }
        }
      ]
    },
    {
      "cell_type": "code",
      "metadata": {
        "id": "rZJE1CTEQYyt",
        "outputId": "854f8086-4599-415b-8874-8acf396d9ded",
        "colab": {
          "base_uri": "https://localhost:8080/",
          "height": 102
        }
      },
      "source": [
        "# Confusion matrix\n",
        "\n",
        "confusion_matrix=pd.crosstab(y_test, y_pred, rownames=[\"Actual\"], colnames=[\"Predicted\"])\n",
        "print(confusion_matrix)"
      ],
      "execution_count": 45,
      "outputs": [
        {
          "output_type": "stream",
          "text": [
            "Predicted    0   1\n",
            "Actual            \n",
            "0          141  21\n",
            "1           20  86\n"
          ],
          "name": "stdout"
        }
      ]
    },
    {
      "cell_type": "code",
      "metadata": {
        "id": "feJZvEukP3xL",
        "outputId": "90a9806d-6e02-4a68-a780-6850dbdb6365",
        "colab": {
          "base_uri": "https://localhost:8080/",
          "height": 187
        }
      },
      "source": [
        "# Classification report\n",
        "\n",
        "print(classification_report(y_test,y_pred))"
      ],
      "execution_count": 43,
      "outputs": [
        {
          "output_type": "stream",
          "text": [
            "              precision    recall  f1-score   support\n",
            "\n",
            "           0       0.88      0.87      0.87       162\n",
            "           1       0.80      0.81      0.81       106\n",
            "\n",
            "    accuracy                           0.85       268\n",
            "   macro avg       0.84      0.84      0.84       268\n",
            "weighted avg       0.85      0.85      0.85       268\n",
            "\n"
          ],
          "name": "stdout"
        }
      ]
    },
    {
      "cell_type": "code",
      "metadata": {
        "id": "yZKZQDGMRYQX",
        "outputId": "5a47b6ff-f259-425e-e85a-51fa365d8ae1",
        "colab": {
          "base_uri": "https://localhost:8080/",
          "height": 51
        }
      },
      "source": [
        "#ROC/AUC validation matrix\n",
        "#Compute Area Under the Receiver Operating Characteristic Curve (ROC AUC) from prediction scores\n",
        "#*AUC - ROC curve is a performance measurement for classification problem at various thresholds settings.\n",
        "#*ROC is a probability curve and AUC represents degree or measure of separability.\n",
        "#*It tells how much model is capable of distinguishing between classes. \n",
        "#*Higher the AUC, better the model is at predicting 0s as 0s and 1s as 1s.\n",
        "\n",
        "\n",
        "print(\"ROC/AUC score: {sc}\".format(sc=roc_auc_score(y_test, y_pred)))"
      ],
      "execution_count": 50,
      "outputs": [
        {
          "output_type": "stream",
          "text": [
            "ROC/AUC score: 0.8408455625436757\n"
          ],
          "name": "stdout"
        }
      ]
    }
  ]
}